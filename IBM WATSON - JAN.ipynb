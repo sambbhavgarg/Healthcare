{
 "cells": [
  {
   "cell_type": "markdown",
   "metadata": {},
   "source": [
    "# Loading Data "
   ]
  },
  {
   "cell_type": "code",
   "execution_count": 72,
   "metadata": {},
   "outputs": [],
   "source": [
    "import boto3\n",
    "import botocore\n",
    "import pandas as pd\n",
    "import re\n",
    "import matplotlib.pyplot as plt\n",
    "import seaborn as sns\n",
    "from collections import Counter\n",
    "\n",
    "# BUCKET_NAME = 'data-set1' # replace with your bucket name\n",
    "# KEY = 'JAN_DATA/final.xls' # replace with your object key\n",
    "\n",
    "# s3 = boto3.resource('s3')\n",
    "\n",
    "# try:\n",
    "#     s3.Bucket(BUCKET_NAME).download_file(KEY, 'January_Data')\n",
    "# except botocore.exceptions.ClientError as e:\n",
    "#     if e.response['Error']['Code'] == \"404\":\n",
    "#         print(\"The object does not exist.\")\n",
    "#     else:\n",
    "#         raise"
   ]
  },
  {
   "cell_type": "code",
   "execution_count": 73,
   "metadata": {},
   "outputs": [],
   "source": [
    "df = pd.read_csv(\"January_Data\")"
   ]
  },
  {
   "cell_type": "markdown",
   "metadata": {},
   "source": [
    "# IBM REST API"
   ]
  },
  {
   "cell_type": "code",
   "execution_count": 75,
   "metadata": {},
   "outputs": [],
   "source": [
    "import json\n",
    "import csv \n",
    "from ibm_watson import NaturalLanguageUnderstandingV1\n",
    "from ibm_watson.natural_language_understanding_v1 import Features, EntitiesOptions, KeywordsOptions, DocumentSentimentResults, CategoriesOptions, EmotionOptions"
   ]
  },
  {
   "cell_type": "code",
   "execution_count": 74,
   "metadata": {},
   "outputs": [],
   "source": [
    "from ibm_cloud_sdk_core.authenticators import IAMAuthenticator\n",
    "\n",
    "#Authentication via IAM\n",
    "authenticator = IAMAuthenticator('INSERT')\n",
    "service = NaturalLanguageUnderstandingV1(\n",
    "    version='2018-03-16',\n",
    "    authenticator=authenticator)\n",
    "service.set_service_url('INSERT')"
   ]
  },
  {
   "cell_type": "markdown",
   "metadata": {},
   "source": [
    "#####  Sample Usage"
   ]
  },
  {
   "cell_type": "code",
   "execution_count": 83,
   "metadata": {},
   "outputs": [],
   "source": [
    "# response = service.analyze(\n",
    "#                             text=df[\"Tweet\"][98],\n",
    "#                             features = Features(sentiment= DocumentSentimentResults(), categories=CategoriesOptions(limit=1), keywords=KeywordsOptions(limit=1), emotion=EmotionOptions())\n",
    "#            ).get_result()"
   ]
  },
  {
   "cell_type": "code",
   "execution_count": 84,
   "metadata": {},
   "outputs": [],
   "source": [
    "# response['categories'][0]['label']"
   ]
  },
  {
   "cell_type": "markdown",
   "metadata": {},
   "source": [
    "# Utilities"
   ]
  },
  {
   "cell_type": "code",
   "execution_count": 85,
   "metadata": {},
   "outputs": [],
   "source": [
    "def get_sample(df, nums):\n",
    "    return df[nums:nums + 50]\n",
    "\n",
    "def perform(df_try):\n",
    "    data = pd.DataFrame(columns=[\"Tweet\", \"Language\", \"Sentiment\", \"Emotion\", \"Keyword\",\"Categories\"])\n",
    "    \n",
    "    for tweet in df_try[\"Tweet\"]:\n",
    "        try:\n",
    "            tw = tweet\n",
    "            response = service.analyze(text=tweet, features = Features(sentiment= DocumentSentimentResults(), emotion=EmotionOptions(), keywords=KeywordsOptions(), categories=CategoriesOptions())).get_result()\n",
    "        except:\n",
    "            print(\"Error in Tweet: \", tw)\n",
    "            continue\n",
    "            \n",
    "        try:\n",
    "            lan = response[\"language\"]\n",
    "            sent = response[\"sentiment\"][\"document\"][\"label\"]\n",
    "        except:\n",
    "            lan = 'en'\n",
    "            sent = 'neutral'\n",
    "            \n",
    "        ans = -1\n",
    "        place = -1\n",
    "        emotion = []\n",
    "        try:\n",
    "            for i in response[\"emotion\"][\"document\"][\"emotion\"]:\n",
    "                emotion.append(response[\"emotion\"][\"document\"][\"emotion\"][i])\n",
    "            for j in range(len(emotion)):\n",
    "                if emotion[j] > ans:\n",
    "                    ans  = emotion[j]\n",
    "                    place = j\n",
    "            if (place == 0):\n",
    "                emot = 'sadness'\n",
    "            elif (place == 1):\n",
    "                emot = 'joy'\n",
    "            elif (place == 2):\n",
    "                emot = 'fear'\n",
    "            elif (place == 3):\n",
    "                emot = 'disgust'\n",
    "            else:\n",
    "                emot = 'anger'\n",
    "            \n",
    "        except:\n",
    "            emot = \"sadness\"\n",
    "            \n",
    "        try:\n",
    "            word = response[\"keywords\"][0][\"text\"]\n",
    "        except:\n",
    "            word = '----'\n",
    "            \n",
    "        try:\n",
    "            cat = response['categories'][0]['label']\n",
    "        except:\n",
    "            cat = 'Unknown'\n",
    "            \n",
    "        final = {\"Tweet\":tw, \"Language\":lan, \"Sentiment\":sent, \"Emotion\":emot, \"Keyword\":word, \"Categories\":cat}\n",
    "        data = data.append(final, ignore_index=True)\n",
    "    return data\n",
    "\n",
    "def clean_simple(x):\n",
    "    a = []\n",
    "    for tw in x:\n",
    "        tw = tw.lower()\n",
    "        if (tw.startswith('rt') and tw.endswith('...')):\n",
    "            continue\n",
    "        if (tw.startswith('rt')):\n",
    "            tw = tw[2:]\n",
    "        a.append(' '.join(re.sub(\"(@[A-Za-z0-9]+)|([^0-9A-Za-z \\t])|(\\w+:\\/\\/\\S+)\",\" \",tw).split()))\n",
    "            \n",
    "    return set(a)\n",
    "\n",
    "def analyse_tweet(df):\n",
    "    df = df.drop_duplicates(subset = \"Tweet\")\n",
    "    df = df.sort_values(by = [\"Retweets\"], ascending=False)\n",
    "    df = df.reset_index(drop = True)\n",
    "    del df[\"Timestamp\"], df[\"Retweets\"], df[\"Location\"]\n",
    "    x = set(df[\"Tweet\"])\n",
    "    a = clean_simple(x)\n",
    "    a = list(a)\n",
    "    a = a[1:]\n",
    "    dff = pd.DataFrame(a, columns=[\"Tweet\"])\n",
    "    return dff\n",
    "\n",
    "def remove_short(df):\n",
    "    df.drop(df[df['Length'] < 30].index, inplace = True) \n",
    "    return df\n",
    "\n",
    "def extract_information(df):\n",
    "    print(\"Converting Data into suitable format...\")\n",
    "    df = analyse_tweet(df)\n",
    "    \n",
    "    print(\"Removing tweets with characters below 30.\")\n",
    "    lengths = []\n",
    "    for i in df[\"Tweet\"]:\n",
    "        l = len(i)\n",
    "        lengths.append(l)\n",
    "    df[\"Length\"] = lengths\n",
    "    df = remove_short(df)\n",
    "    del df[\"Length\"]\n",
    "    \n",
    "    print(\"Data format complete!\")\n",
    "    \n",
    "    md = pd.DataFrame(columns=[\"Tweet\", \"Language\", \"Sentiment\", \"Emotion\", \"Keyword\", \"Categories\"])\n",
    "    nums = 0\n",
    "    while (nums < df.shape[0]):\n",
    "        print(\"Getting results:\", (nums/df.shape[0])*100, \"%...\")\n",
    "        df_mini = get_sample(df, nums)\n",
    "        df_mini = df_mini.reset_index(drop = True)\n",
    "        df_res = perform (df_mini)\n",
    "        md = pd.concat([md, df_res], axis=0)\n",
    "        nums = nums + 50\n",
    "    print(\"Analysis complete!\")\n",
    "    print()\n",
    "    return md"
   ]
  },
  {
   "cell_type": "code",
   "execution_count": 87,
   "metadata": {},
   "outputs": [],
   "source": [
    "def main_helper(dataframe):\n",
    "    size = dataframe.shape[0]\n",
    "    i = 0;\n",
    "    helper = pd.DataFrame(columns=[\"Tweet\", \"Language\", \"Sentiment\", \"Emotion\", \"Keyword\", \"Categories\"])\n",
    "    while (i <= size):\n",
    "        res = extract_information(dataframe[i:i + 100])\n",
    "        i = i + 100\n",
    "        helper = pd.concat([final, res], axis=0)\n",
    "    helper.reset_index(drop = True)\n",
    "    return helper"
   ]
  },
  {
   "cell_type": "code",
   "execution_count": 86,
   "metadata": {},
   "outputs": [],
   "source": [
    "def main(df, chunksize = 200):\n",
    "    final = pd.DataFrame(columns=[\"Tweet\", \"Language\", \"Sentiment\", \"Emotion\", \"Keyword\", \"Categories\"])\n",
    "    for i in range(0, df.shape, chunksize):\n",
    "        print(\"CHUNK\", i, \"TO\", i + chunksize)\n",
    "        helper = main_helper(df[i:i + chunksize])\n",
    "        final = pd.concat([final, helper], axis=0)\n",
    "        print()\n",
    "    final.reset_index(drop = True)\n",
    "    return final"
   ]
  },
  {
   "cell_type": "markdown",
   "metadata": {},
   "source": [
    "# Call Function"
   ]
  },
  {
   "cell_type": "markdown",
   "metadata": {},
   "source": [
    "1. Pass complete Dataframe without any changes. Should contain column \"Tweet\""
   ]
  },
  {
   "cell_type": "code",
   "execution_count": 88,
   "metadata": {
    "scrolled": true
   },
   "outputs": [],
   "source": [
    "# final = main(df)"
   ]
  },
  {
   "cell_type": "code",
   "execution_count": 89,
   "metadata": {
    "scrolled": true
   },
   "outputs": [],
   "source": [
    "# md = final.reset_index(drop = True)"
   ]
  },
  {
   "cell_type": "code",
   "execution_count": 91,
   "metadata": {},
   "outputs": [],
   "source": [
    "# md.shape"
   ]
  },
  {
   "cell_type": "code",
   "execution_count": 90,
   "metadata": {},
   "outputs": [],
   "source": [
    "# md.head()"
   ]
  },
  {
   "cell_type": "code",
   "execution_count": 92,
   "metadata": {},
   "outputs": [],
   "source": [
    "# md.to_csv('result_5000.csv')"
   ]
  },
  {
   "cell_type": "markdown",
   "metadata": {},
   "source": [
    "# EDA of Results"
   ]
  },
  {
   "cell_type": "code",
   "execution_count": 58,
   "metadata": {
    "scrolled": false
   },
   "outputs": [
    {
     "data": {
      "text/plain": [
       "Text(0.5, 1.0, 'Dataset labels distribuition')"
      ]
     },
     "execution_count": 58,
     "metadata": {},
     "output_type": "execute_result"
    },
    {
     "data": {
      "image/png": "[encoded data removed]",
      "text/plain": [
       "<Figure size 1152x576 with 1 Axes>"
      ]
     },
     "metadata": {},
     "output_type": "display_data"
    }
   ],
   "source": [
    "target_cnt = Counter(md.Sentiment)\n",
    "plt.figure(figsize=(16,8))\n",
    "plt.bar(target_cnt.keys(), target_cnt.values())\n",
    "plt.title(\"Dataset labels distribuition\")"
   ]
  },
  {
   "cell_type": "code",
   "execution_count": 59,
   "metadata": {},
   "outputs": [
    {
     "data": {
      "text/plain": [
       "Text(0.5, 1.0, 'Emotion distribuition')"
      ]
     },
     "execution_count": 59,
     "metadata": {},
     "output_type": "execute_result"
    },
    {
     "data": {
      "image/png": "[encoded data removed]",
      "text/plain": [
       "<Figure size 1152x576 with 1 Axes>"
      ]
     },
     "metadata": {},
     "output_type": "display_data"
    }
   ],
   "source": [
    "target_cnt = Counter(md.Emotion)\n",
    "plt.figure(figsize=(16,8))\n",
    "plt.bar(target_cnt.keys(), target_cnt.values())\n",
    "plt.title(\"Emotion distribuition\")"
   ]
  },
  {
   "cell_type": "code",
   "execution_count": 60,
   "metadata": {},
   "outputs": [],
   "source": [
    "keywords = md[\"Keyword\"]"
   ]
  },
  {
   "cell_type": "code",
   "execution_count": 61,
   "metadata": {},
   "outputs": [],
   "source": [
    "freq = {} \n",
    "for item in keywords: \n",
    "    if (item in freq): \n",
    "        freq[item] += 1\n",
    "    else: \n",
    "        freq[item] = 1"
   ]
  },
  {
   "cell_type": "code",
   "execution_count": 62,
   "metadata": {},
   "outputs": [],
   "source": [
    "freq = dict(sorted(freq.items(), key=lambda x: x[1], reverse=True))"
   ]
  },
  {
   "cell_type": "code",
   "execution_count": 63,
   "metadata": {},
   "outputs": [],
   "source": [
    "count = Counter(freq)"
   ]
  },
  {
   "cell_type": "code",
   "execution_count": 64,
   "metadata": {},
   "outputs": [],
   "source": [
    "a = dict(count.most_common(7))"
   ]
  },
  {
   "cell_type": "code",
   "execution_count": 65,
   "metadata": {
    "scrolled": false
   },
   "outputs": [
    {
     "data": {
      "text/plain": [
       "Text(0.5, 1.0, 'Top KeyWords')"
      ]
     },
     "execution_count": 65,
     "metadata": {},
     "output_type": "execute_result"
    },
    {
     "data": {
      "image/png": "[encoded data removed]",
      "text/plain": [
       "<Figure size 1440x576 with 1 Axes>"
      ]
     },
     "metadata": {},
     "output_type": "display_data"
    }
   ],
   "source": [
    "plt.figure(figsize=(20,8))\n",
    "plt.bar(a.keys(), a.values())\n",
    "plt.title(\"Top KeyWords\")"
   ]
  },
  {
   "cell_type": "code",
   "execution_count": 66,
   "metadata": {},
   "outputs": [],
   "source": [
    "cats = md[\"Categories\"]"
   ]
  },
  {
   "cell_type": "code",
   "execution_count": 67,
   "metadata": {},
   "outputs": [],
   "source": [
    "freq = {} \n",
    "for item in cats: \n",
    "    if (item in freq): \n",
    "        freq[item] += 1\n",
    "    else: \n",
    "        freq[item] = 1"
   ]
  },
  {
   "cell_type": "code",
   "execution_count": 68,
   "metadata": {},
   "outputs": [],
   "source": [
    "freq = dict(sorted(freq.items(), key=lambda x: x[1], reverse=True))"
   ]
  },
  {
   "cell_type": "code",
   "execution_count": 69,
   "metadata": {},
   "outputs": [],
   "source": [
    "count = Counter(freq)"
   ]
  },
  {
   "cell_type": "code",
   "execution_count": 70,
   "metadata": {},
   "outputs": [],
   "source": [
    "a = dict(count.most_common(5))"
   ]
  },
  {
   "cell_type": "code",
   "execution_count": 71,
   "metadata": {},
   "outputs": [
    {
     "data": {
      "text/plain": [
       "Text(0.5, 1.0, 'Top Categories')"
      ]
     },
     "execution_count": 71,
     "metadata": {},
     "output_type": "execute_result"
    },
    {
     "data": {
      "image/png": "[encoded data removed]",
      "text/plain": [
       "<Figure size 1440x576 with 1 Axes>"
      ]
     },
     "metadata": {},
     "output_type": "display_data"
    }
   ],
   "source": [
    "plt.figure(figsize=(20,8))\n",
    "plt.bar(a.keys(), a.values())\n",
    "plt.title(\"Top Categories\")"
   ]
  }
 ],
 "metadata": {
  "kernelspec": {
   "display_name": "conda_python3",
   "language": "python",
   "name": "conda_python3"
  },
  "language_info": {
   "codemirror_mode": {
    "name": "ipython",
    "version": 3
   },
   "file_extension": ".py",
   "mimetype": "text/x-python",
   "name": "python",
   "nbconvert_exporter": "python",
   "pygments_lexer": "ipython3",
   "version": "3.6.5"
  }
 },
 "nbformat": 4,
 "nbformat_minor": 4
}
