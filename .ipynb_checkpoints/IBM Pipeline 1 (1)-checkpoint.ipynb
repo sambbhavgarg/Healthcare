{
 "cells": [
  {
   "cell_type": "markdown",
   "metadata": {},
   "source": [
    "# Loading Data & Libraries"
   ]
  },
  {
   "cell_type": "code",
   "execution_count": 1,
   "metadata": {},
   "outputs": [],
   "source": [
    "import json\n",
    "import csv \n",
    "from ibm_watson import NaturalLanguageUnderstandingV1\n",
    "from ibm_watson.natural_language_understanding_v1 import Features, EntitiesOptions, KeywordsOptions, DocumentSentimentResults, CategoriesOptions, EmotionOptions\n",
    "import boto3\n",
    "import botocore\n",
    "import pandas as pd\n",
    "import re\n",
    "import matplotlib.pyplot as plt\n",
    "import seaborn as sns\n",
    "from collections import Counter\n",
    "from tqdm import tqdm"
   ]
  },
  {
   "cell_type": "code",
   "execution_count": 2,
   "metadata": {},
   "outputs": [
    {
     "data": {
      "text/plain": [
       "'\\nRun Cell to load data if not on local machine.\\n'"
      ]
     },
     "execution_count": 2,
     "metadata": {},
     "output_type": "execute_result"
    }
   ],
   "source": [
    "'''\n",
    "Run Cell to load data if not on local machine.\n",
    "'''\n",
    "\n",
    "# BUCKET_NAME = 'data-set1' # replace with your bucket name\n",
    "# KEY = 'JAN_DATA/final.xls' # replace with your object key\n",
    "\n",
    "# s3 = boto3.resource('s3')\n",
    "\n",
    "# try:\n",
    "#     s3.Bucket(BUCKET_NAME).download_file(KEY, 'January_Data')\n",
    "# except botocore.exceptions.ClientError as e:\n",
    "#     if e.response['Error']['Code'] == \"404\":\n",
    "#         print(\"The object does not exist.\")\n",
    "#     else:\n",
    "#         raise"
   ]
  },
  {
   "cell_type": "code",
   "execution_count": 3,
   "metadata": {},
   "outputs": [],
   "source": [
    "df = pd.read_csv(\"January_Data\")"
   ]
  },
  {
   "cell_type": "markdown",
   "metadata": {},
   "source": [
    "# Utilities"
   ]
  },
  {
   "cell_type": "markdown",
   "metadata": {},
   "source": [
    "**DO NOT ALTER CODE IN ANY FUNCTION**"
   ]
  },
  {
   "cell_type": "code",
   "execution_count": 7,
   "metadata": {},
   "outputs": [],
   "source": [
    "def get_sample(df, nums):\n",
    "    return df[nums:nums + 10]\n",
    "\n",
    "def perform(df_try):\n",
    "    data = pd.DataFrame(columns=[\"Tweet\", \"Language\", \"Sentiment\", \"Emotion\", \"Keyword\",\"Categories\"])\n",
    "    \n",
    "    for tweet in df_try[\"Tweet\"]:\n",
    "        try:\n",
    "            tw = tweet\n",
    "            response = service.analyze(text=tweet, features = Features(sentiment= DocumentSentimentResults(), emotion=EmotionOptions(), keywords=KeywordsOptions(), categories=CategoriesOptions())).get_result()\n",
    "        except:\n",
    "            print(\"Error in Tweet: \", tw)\n",
    "            continue\n",
    "            \n",
    "        try:\n",
    "            lan = response[\"language\"]\n",
    "            sent = response[\"sentiment\"][\"document\"][\"label\"]\n",
    "        except:\n",
    "            lan = 'en'\n",
    "            sent = 'neutral'\n",
    "            \n",
    "        ans = -1\n",
    "        place = -1\n",
    "        emotion = []\n",
    "        try:\n",
    "            for i in response[\"emotion\"][\"document\"][\"emotion\"]:\n",
    "                emotion.append(response[\"emotion\"][\"document\"][\"emotion\"][i])\n",
    "            for j in range(len(emotion)):\n",
    "                if emotion[j] > ans:\n",
    "                    ans  = emotion[j]\n",
    "                    place = j\n",
    "            if (place == 0):\n",
    "                emot = 'sadness'\n",
    "            elif (place == 1):\n",
    "                emot = 'joy'\n",
    "            elif (place == 2):\n",
    "                emot = 'fear'\n",
    "            elif (place == 3):\n",
    "                emot = 'disgust'\n",
    "            else:\n",
    "                emot = 'anger'\n",
    "            \n",
    "        except:\n",
    "            emot = \"sadness\"\n",
    "            \n",
    "        try:\n",
    "            word = response[\"keywords\"][0][\"text\"]\n",
    "        except:\n",
    "            word = '----'\n",
    "            \n",
    "        try:\n",
    "            cat = response['categories'][0]['label']\n",
    "        except:\n",
    "            cat = 'Unknown'\n",
    "            \n",
    "        final = {\"Tweet\":tw, \"Language\":lan, \"Sentiment\":sent, \"Emotion\":emot, \"Keyword\":word, \"Categories\":cat}\n",
    "        data = data.append(final, ignore_index=True)\n",
    "    return data\n",
    "\n",
    "def clean_simple(x):\n",
    "    a = []\n",
    "    for tw in x:\n",
    "        tw = tw.lower()\n",
    "        if (tw.startswith('rt') and tw.endswith('...')):\n",
    "            continue\n",
    "        if (tw.startswith('rt')):\n",
    "            tw = tw[2:]\n",
    "        a.append(' '.join(re.sub(\"(@[A-Za-z0-9]+)|([^0-9A-Za-z \\t])|(\\w+:\\/\\/\\S+)\",\" \",tw).split()))\n",
    "            \n",
    "    return set(a)\n",
    "\n",
    "def analyse_tweet(df):\n",
    "    df = df.drop_duplicates(subset = \"Tweet\")\n",
    "    df = df.sort_values(by = [\"Retweets\"], ascending=False)\n",
    "    df = df.reset_index(drop = True)\n",
    "    del df[\"Timestamp\"], df[\"Retweets\"], df[\"Location\"]\n",
    "    x = set(df[\"Tweet\"])\n",
    "    a = clean_simple(x)\n",
    "    a = list(a)\n",
    "    a = a[1:]\n",
    "    dff = pd.DataFrame(a, columns=[\"Tweet\"])\n",
    "    return dff\n",
    "\n",
    "def remove_short(df):\n",
    "    df.drop(df[df['Length'] < 30].index, inplace = True) \n",
    "    return df\n",
    "\n",
    "def extract_information(df):\n",
    "    print(\"Converting Data into suitable format...\")\n",
    "    df = analyse_tweet(df)\n",
    "    print(\"Removing tweets with characters below 30.\")\n",
    "    lengths = []\n",
    "    for i in df[\"Tweet\"]:\n",
    "        l = len(i)\n",
    "        lengths.append(l)\n",
    "    df[\"Length\"] = lengths\n",
    "    df = remove_short(df)\n",
    "    del df[\"Length\"]\n",
    "    print(\"Data format complete!\")\n",
    "    \n",
    "    md = pd.DataFrame(columns=[\"Tweet\", \"Language\", \"Sentiment\", \"Emotion\", \"Keyword\", \"Categories\"])\n",
    "    \n",
    "    for nums in tqdm(range(0, df.shape[0], 10)):\n",
    "#         print(\"Getting results:\", (nums/df.shape[0])*100, \"%...\")\n",
    "        df_mini = get_sample(df, nums)\n",
    "        df_mini = df_mini.reset_index(drop = True)\n",
    "        df_res = perform (df_mini)\n",
    "        md = pd.concat([md, df_res], axis=0)\n",
    "        \n",
    "    print(\"Analysis complete!\")\n",
    "    print()\n",
    "    return md"
   ]
  },
  {
   "cell_type": "code",
   "execution_count": 5,
   "metadata": {},
   "outputs": [],
   "source": [
    "def main(df, chunksize = 200):\n",
    "    size = df.shape[0]\n",
    "    final = pd.DataFrame(columns=[\"Tweet\", \"Language\", \"Sentiment\", \"Emotion\", \"Keyword\", \"Categories\"])\n",
    "    for i in range(0, df.shape[0], chunksize):\n",
    "        print(\"CHUNK\", i, \"TO\", i + chunksize)\n",
    "        res = extract_information(df[i:i + chunksize])\n",
    "        i = i + chunksize\n",
    "        final = pd.concat([final, res], axis=0)\n",
    "    final = final.reset_index(drop = True)\n",
    "    return final"
   ]
  },
  {
   "cell_type": "code",
   "execution_count": 13,
   "metadata": {},
   "outputs": [],
   "source": [
    "def visualise(md):\n",
    "    target_cnt = Counter(md.Sentiment)\n",
    "    plt.figure(figsize=(16,8))\n",
    "    plt.bar(target_cnt.keys(), target_cnt.values())\n",
    "    plt.title(\"Dataset labels distribuition\")\n",
    "    plt.show()\n",
    "    \n",
    "    target_cnt = Counter(md.Emotion)\n",
    "    plt.figure(figsize=(16,8))\n",
    "    plt.bar(target_cnt.keys(), target_cnt.values())\n",
    "    plt.title(\"Emotion distribuition\")\n",
    "    plt.show()\n",
    "    \n",
    "    keywords = md[\"Keyword\"]\n",
    "    freq = {} \n",
    "    for item in keywords: \n",
    "        if (item in freq): \n",
    "            freq[item] += 1\n",
    "        else: \n",
    "            freq[item] = 1\n",
    "    freq = dict(sorted(freq.items(), key=lambda x: x[1], reverse=True))\n",
    "    count = Counter(freq)\n",
    "    a = dict(count.most_common(7))\n",
    "    plt.figure(figsize=(20,8))\n",
    "    plt.bar(a.keys(), a.values())\n",
    "    plt.title(\"Top KeyWords\")\n",
    "    plt.show()\n",
    "    \n",
    "    cats = md[\"Categories\"]\n",
    "    freq = {} \n",
    "    for item in cats: \n",
    "        if (item in freq): \n",
    "            freq[item] += 1\n",
    "        else: \n",
    "            freq[item] = 1\n",
    "    freq = dict(sorted(freq.items(), key=lambda x: x[1], reverse=True))\n",
    "    count = Counter(freq)\n",
    "    a = dict(count.most_common(3))\n",
    "    plt.figure(figsize=(20,8))\n",
    "    plt.bar(a.keys(), a.values())\n",
    "    plt.title(\"Top Categories\")\n",
    "    plt.show()\n",
    "    \n",
    "    return"
   ]
  },
  {
   "cell_type": "code",
   "execution_count": 1,
   "metadata": {},
   "outputs": [],
   "source": [
    "def extract_terms(final):\n",
    "    df_cats = pd.DataFrame(final[\"Categories\"])\n",
    "    df_cats = df_cats.drop_duplicates()\n",
    "    health_based = []\n",
    "    for cat in df_cats[\"Categories\"]:\n",
    "        if (cat.startswith('/health and fitness')):\n",
    "            health_based.append(cat)\n",
    "    health_based = list(set(health_based))\n",
    "    terms = []\n",
    "    for i in health_based:\n",
    "        j = len(i) - 1\n",
    "        ans = ''\n",
    "        while (i[j] != '/'):\n",
    "            ans += i[j]\n",
    "            j = j - 1\n",
    "        ans = ans[::-1]\n",
    "        terms.append(ans)\n",
    "        \n",
    "    df_keys = pd.DataFrame(final[\"Keyword\"])\n",
    "    df_keys = df_keys.drop_duplicates()\n",
    "\n",
    "    keys = []\n",
    "    random = []\n",
    "    for key in df_keys[\"Keyword\"]:\n",
    "        res = key.split()  \n",
    "        ans = ''\n",
    "        for i in res:\n",
    "            if (i in setofwords):\n",
    "                ans = ans + ' ' + i\n",
    "            else:\n",
    "                random.append(i)\n",
    "        keys.append(ans[1:])\n",
    "        \n",
    "    keys = list(set(keys))\n",
    "    return terms, keys"
   ]
  },
  {
   "cell_type": "markdown",
   "metadata": {},
   "source": [
    "# Usage"
   ]
  },
  {
   "cell_type": "markdown",
   "metadata": {},
   "source": [
    "**Enter your IAM Authorisation API credentials inplace of INSERT and then pass the dataframe or a chunk of the data.**\n",
    "**Use main function ONLY**"
   ]
  },
  {
   "cell_type": "code",
   "execution_count": 15,
   "metadata": {},
   "outputs": [],
   "source": [
    "from ibm_cloud_sdk_core.authenticators import IAMAuthenticator\n",
    "\n",
    "#Authentication via IAM\n",
    "authenticator = IAMAuthenticator('INSERT API KEY')\n",
    "service = NaturalLanguageUnderstandingV1(\n",
    "    version='2018-03-16',\n",
    "    authenticator=authenticator)\n",
    "service.set_service_url('INSERT URL')"
   ]
  },
  {
   "cell_type": "code",
   "execution_count": 10,
   "metadata": {
    "collapsed": true,
    "jupyter": {
     "outputs_hidden": true
    }
   },
   "outputs": [
    {
     "name": "stderr",
     "output_type": "stream",
     "text": [
      "  0%|          | 0/12 [00:00<?, ?it/s]"
     ]
    },
    {
     "name": "stdout",
     "output_type": "stream",
     "text": [
      "Converting Data into suitable format...\n",
      "Removing tweets with characters below 30.\n",
      "Data format complete!\n"
     ]
    },
    {
     "name": "stderr",
     "output_type": "stream",
     "text": [
      "100%|██████████| 12/12 [00:56<00:00,  4.74s/it]\n",
      "  0%|          | 0/12 [00:00<?, ?it/s]"
     ]
    },
    {
     "name": "stdout",
     "output_type": "stream",
     "text": [
      "Analysis complete!\n",
      "\n",
      "Converting Data into suitable format...\n",
      "Removing tweets with characters below 30.\n",
      "Data format complete!\n"
     ]
    },
    {
     "name": "stderr",
     "output_type": "stream",
     "text": [
      "100%|██████████| 12/12 [00:55<00:00,  4.64s/it]\n",
      "  0%|          | 0/12 [00:00<?, ?it/s]"
     ]
    },
    {
     "name": "stdout",
     "output_type": "stream",
     "text": [
      "Analysis complete!\n",
      "\n",
      "Converting Data into suitable format...\n",
      "Removing tweets with characters below 30.\n",
      "Data format complete!\n"
     ]
    },
    {
     "name": "stderr",
     "output_type": "stream",
     "text": [
      "100%|██████████| 12/12 [00:52<00:00,  4.39s/it]\n",
      "  0%|          | 0/11 [00:00<?, ?it/s]"
     ]
    },
    {
     "name": "stdout",
     "output_type": "stream",
     "text": [
      "Analysis complete!\n",
      "\n",
      "Converting Data into suitable format...\n",
      "Removing tweets with characters below 30.\n",
      "Data format complete!\n"
     ]
    },
    {
     "name": "stderr",
     "output_type": "stream",
     "text": [
      "100%|██████████| 11/11 [00:49<00:00,  4.49s/it]\n",
      "  0%|          | 0/14 [00:00<?, ?it/s]"
     ]
    },
    {
     "name": "stdout",
     "output_type": "stream",
     "text": [
      "Analysis complete!\n",
      "\n",
      "Converting Data into suitable format...\n",
      "Removing tweets with characters below 30.\n",
      "Data format complete!\n"
     ]
    },
    {
     "name": "stderr",
     "output_type": "stream",
     "text": [
      "100%|██████████| 14/14 [01:03<00:00,  4.54s/it]"
     ]
    },
    {
     "name": "stdout",
     "output_type": "stream",
     "text": [
      "Analysis complete!\n",
      "\n"
     ]
    },
    {
     "name": "stderr",
     "output_type": "stream",
     "text": [
      "\n"
     ]
    }
   ],
   "source": [
    "final = main(df[:1000])"
   ]
  },
  {
   "cell_type": "code",
   "execution_count": 12,
   "metadata": {},
   "outputs": [
    {
     "data": {
      "text/html": [
       "<div>\n",
       "<style scoped>\n",
       "    .dataframe tbody tr th:only-of-type {\n",
       "        vertical-align: middle;\n",
       "    }\n",
       "\n",
       "    .dataframe tbody tr th {\n",
       "        vertical-align: top;\n",
       "    }\n",
       "\n",
       "    .dataframe thead th {\n",
       "        text-align: right;\n",
       "    }\n",
       "</style>\n",
       "<table border=\"1\" class=\"dataframe\">\n",
       "  <thead>\n",
       "    <tr style=\"text-align: right;\">\n",
       "      <th></th>\n",
       "      <th>Tweet</th>\n",
       "      <th>Language</th>\n",
       "      <th>Sentiment</th>\n",
       "      <th>Emotion</th>\n",
       "      <th>Keyword</th>\n",
       "      <th>Categories</th>\n",
       "    </tr>\n",
       "  </thead>\n",
       "  <tbody>\n",
       "    <tr>\n",
       "      <th>0</th>\n",
       "      <td>breaking first confirmed case of the new coron...</td>\n",
       "      <td>en</td>\n",
       "      <td>neutral</td>\n",
       "      <td>sadness</td>\n",
       "      <td>case of the new coronavirus</td>\n",
       "      <td>/health and fitness/disease/epidemic</td>\n",
       "    </tr>\n",
       "    <tr>\n",
       "      <th>1</th>\n",
       "      <td>well it s now in mainstream asia as well as ru...</td>\n",
       "      <td>en</td>\n",
       "      <td>positive</td>\n",
       "      <td>joy</td>\n",
       "      <td>mainstream asia</td>\n",
       "      <td>/health and fitness/disease/cold and flu</td>\n",
       "    </tr>\n",
       "    <tr>\n",
       "      <th>2</th>\n",
       "      <td>new cdc summary of u s vaping injuries highlig...</td>\n",
       "      <td>en</td>\n",
       "      <td>negative</td>\n",
       "      <td>sadness</td>\n",
       "      <td>new cdc summary of u s</td>\n",
       "      <td>/health and fitness/men's health</td>\n",
       "    </tr>\n",
       "    <tr>\n",
       "      <th>3</th>\n",
       "      <td>the first human infection with new coronavirus...</td>\n",
       "      <td>en</td>\n",
       "      <td>neutral</td>\n",
       "      <td>joy</td>\n",
       "      <td>first human infection</td>\n",
       "      <td>/health and fitness/disease</td>\n",
       "    </tr>\n",
       "    <tr>\n",
       "      <th>4</th>\n",
       "      <td>shiva evali was a lie nothing to do with ecig ...</td>\n",
       "      <td>en</td>\n",
       "      <td>negative</td>\n",
       "      <td>sadness</td>\n",
       "      <td>shiva evali</td>\n",
       "      <td>/health and fitness/addiction/smoking addiction</td>\n",
       "    </tr>\n",
       "  </tbody>\n",
       "</table>\n",
       "</div>"
      ],
      "text/plain": [
       "                                               Tweet Language Sentiment  \\\n",
       "0  breaking first confirmed case of the new coron...       en   neutral   \n",
       "1  well it s now in mainstream asia as well as ru...       en  positive   \n",
       "2  new cdc summary of u s vaping injuries highlig...       en  negative   \n",
       "3  the first human infection with new coronavirus...       en   neutral   \n",
       "4  shiva evali was a lie nothing to do with ecig ...       en  negative   \n",
       "\n",
       "   Emotion                      Keyword  \\\n",
       "0  sadness  case of the new coronavirus   \n",
       "1      joy              mainstream asia   \n",
       "2  sadness       new cdc summary of u s   \n",
       "3      joy        first human infection   \n",
       "4  sadness                  shiva evali   \n",
       "\n",
       "                                        Categories  \n",
       "0             /health and fitness/disease/epidemic  \n",
       "1         /health and fitness/disease/cold and flu  \n",
       "2                 /health and fitness/men's health  \n",
       "3                      /health and fitness/disease  \n",
       "4  /health and fitness/addiction/smoking addiction  "
      ]
     },
     "execution_count": 12,
     "metadata": {},
     "output_type": "execute_result"
    }
   ],
   "source": [
    "final.head()"
   ]
  },
  {
   "cell_type": "code",
   "execution_count": null,
   "metadata": {},
   "outputs": [],
   "source": [
    "final.to_csv('out.csv', index=False)"
   ]
  },
  {
   "cell_type": "markdown",
   "metadata": {},
   "source": [
    "# Visualise"
   ]
  },
  {
   "cell_type": "markdown",
   "metadata": {},
   "source": [
    "**Pass the resultant df from main function to visualise function**"
   ]
  },
  {
   "cell_type": "code",
   "execution_count": 14,
   "metadata": {},
   "outputs": [
    {
     "data": {
      "image/png": "[encoded data removed]",
      "text/plain": [
       "<Figure size 1152x576 with 1 Axes>"
      ]
     },
     "metadata": {},
     "output_type": "display_data"
    },
    {
     "data": {
      "image/png": "[encoded data removed]",
      "text/plain": [
       "<Figure size 1152x576 with 1 Axes>"
      ]
     },
     "metadata": {},
     "output_type": "display_data"
    },
    {
     "data": {
      "image/png": "[encoded data removed]",
      "text/plain": [
       "<Figure size 1440x576 with 1 Axes>"
      ]
     },
     "metadata": {},
     "output_type": "display_data"
    },
    {
     "data": {
      "image/png": "[encoded data removed]",
      "text/plain": [
       "<Figure size 1440x576 with 1 Axes>"
      ]
     },
     "metadata": {},
     "output_type": "display_data"
    }
   ],
   "source": [
    "visualise(final)"
   ]
  },
  {
   "cell_type": "markdown",
   "metadata": {},
   "source": [
    "# Extracting Health Related Terms"
   ]
  },
  {
   "cell_type": "markdown",
   "metadata": {},
   "source": [
    "**Will return two lists containing** - \n",
    "1. A deep classification of all health related topics mentioned in the tweets. \n",
    "2. List of all keywords that appear frequently in the tweets"
   ]
  },
  {
   "cell_type": "code",
   "execution_count": null,
   "metadata": {},
   "outputs": [],
   "source": [
    "a, b = extract_terms(final)\n",
    "print(a[:10])\n",
    "print(b[10:20])"
   ]
  }
 ],
 "metadata": {
  "kernelspec": {
   "display_name": "Python 3",
   "language": "python",
   "name": "python3"
  },
  "language_info": {
   "codemirror_mode": {
    "name": "ipython",
    "version": 3
   },
   "file_extension": ".py",
   "mimetype": "text/x-python",
   "name": "python",
   "nbconvert_exporter": "python",
   "pygments_lexer": "ipython3",
   "version": "3.7.3"
  }
 },
 "nbformat": 4,
 "nbformat_minor": 4
}
